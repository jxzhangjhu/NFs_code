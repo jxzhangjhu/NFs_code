{
 "cells": [
  {
   "cell_type": "code",
   "execution_count": 6,
   "id": "b34612e2",
   "metadata": {},
   "outputs": [],
   "source": [
    "from generate2d import sample2d, energy2d\n",
    "import numpy as np\n",
    "\n",
    "x = sample2d('8gaussians', 1000)"
   ]
  },
  {
   "cell_type": "code",
   "execution_count": 7,
   "id": "64ba48b2",
   "metadata": {},
   "outputs": [
    {
     "data": {
      "text/plain": [
       "(1000, 2)"
      ]
     },
     "execution_count": 7,
     "metadata": {},
     "output_type": "execute_result"
    }
   ],
   "source": [
    "np.shape(x)"
   ]
  },
  {
   "cell_type": "code",
   "execution_count": null,
   "id": "3ae8d2d4",
   "metadata": {},
   "outputs": [],
   "source": []
  }
 ],
 "metadata": {
  "kernelspec": {
   "display_name": "Python 3",
   "language": "python",
   "name": "python3"
  },
  "language_info": {
   "codemirror_mode": {
    "name": "ipython",
    "version": 3
   },
   "file_extension": ".py",
   "mimetype": "text/x-python",
   "name": "python",
   "nbconvert_exporter": "python",
   "pygments_lexer": "ipython3",
   "version": "3.7.10"
  }
 },
 "nbformat": 4,
 "nbformat_minor": 5
}
