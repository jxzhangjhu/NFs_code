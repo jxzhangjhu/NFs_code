{
 "cells": [
  {
   "cell_type": "code",
   "execution_count": 4,
   "id": "9245886e",
   "metadata": {},
   "outputs": [],
   "source": [
    "from generate2d import sample2d, energy2d\n",
    "import numpy as np\n",
    "\n",
    "x = sample2d('8gaussians', 1000)"
   ]
  },
  {
   "cell_type": "code",
   "execution_count": 5,
   "id": "79fc1011",
   "metadata": {},
   "outputs": [
    {
     "data": {
      "text/plain": [
       "array([[ 1.9679782 ,  0.40073344],\n",
       "       [ 2.4184196 , -2.0716064 ],\n",
       "       [ 1.9114649 ,  2.2364326 ],\n",
       "       ...,\n",
       "       [ 1.1547384 ,  2.425743  ],\n",
       "       [ 1.9954203 ,  1.4315339 ],\n",
       "       [ 0.09004459, -3.0772102 ]], dtype=float32)"
      ]
     },
     "execution_count": 5,
     "metadata": {},
     "output_type": "execute_result"
    }
   ],
   "source": []
  },
  {
   "cell_type": "code",
   "execution_count": null,
   "id": "bc409215",
   "metadata": {},
   "outputs": [],
   "source": []
  }
 ],
 "metadata": {
  "kernelspec": {
   "display_name": "Python 3",
   "language": "python",
   "name": "python3"
  },
  "language_info": {
   "codemirror_mode": {
    "name": "ipython",
    "version": 3
   },
   "file_extension": ".py",
   "mimetype": "text/x-python",
   "name": "python",
   "nbconvert_exporter": "python",
   "pygments_lexer": "ipython3",
   "version": "3.7.10"
  }
 },
 "nbformat": 4,
 "nbformat_minor": 5
}
