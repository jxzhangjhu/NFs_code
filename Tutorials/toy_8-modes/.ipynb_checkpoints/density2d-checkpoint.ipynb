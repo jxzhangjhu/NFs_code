{
 "cells": [
  {
   "cell_type": "code",
   "execution_count": null,
   "id": "afaac49f",
   "metadata": {},
   "outputs": [],
   "source": [
    "# standard imports\n",
    "import torch\n",
    "import torch.nn as nn\n",
    "from sklearn.datasets import make_moons\n",
    "from generate2d import sample2d, energy2d\n",
    "\n",
    "# FrEIA imports\n",
    "import FrEIA.framework as Ff\n",
    "import FrEIA.modules as Fm\n",
    "\n",
    "device = 'cuda' if torch.cuda.is_available() else 'cpu'\n",
    "\n",
    "BATCHSIZE = 1000\n",
    "N_DIM = 2\n",
    "\n",
    "# we define a subnet for use inside an affine coupling block\n",
    "# for more detailed information see the full tutorial\n",
    "def subnet_fc(dims_in, dims_out):\n",
    "    return nn.Sequential(nn.Linear(dims_in, 512), nn.ReLU(),\n",
    "                         nn.Linear(512,  dims_out))\n",
    "\n",
    "# a simple chain of operations is collected by ReversibleSequential\n",
    "inn = Ff.SequenceINN(N_DIM)\n",
    "for k in range(8):\n",
    "    inn.append(Fm.AllInOneBlock, subnet_constructor=subnet_fc, permute_soft=True)\n",
    "\n",
    "optimizer = torch.optim.Adam(inn.parameters(), lr=0.001)"
   ]
  },
  {
   "cell_type": "code",
   "execution_count": null,
   "id": "3ba580e4",
   "metadata": {},
   "outputs": [],
   "source": [
    "# a very basic training loop\n",
    "for i in range(10000):\n",
    "    \n",
    "    data = (torch.from_numpy(sample2d('8gaussians', BATCHSIZE)).float().to(device))\n",
    "    \n",
    "    \n",
    "    optimizer.zero_grad()\n",
    "    # sample data from the moons distribution\n",
    "#     data, label = make_moons(n_samples=BATCHSIZE, noise=0.05)\n",
    "    data = sample2d('8gaussians', BATCHSIZE)\n",
    "    x = torch.Tensor(data)\n",
    "    # pass to INN and get transformed variable z and log Jacobian determinant\n",
    "    z, log_jac_det = inn(x)\n",
    "    # calculate the negative log-likelihood of the model with a standard normal prior\n",
    "    loss = 0.5*torch.sum(z**2, 1) - log_jac_det\n",
    "    loss = loss.mean() / N_DIM\n",
    "    # backpropagate and update the weights\n",
    "    loss.backward()\n",
    "    optimizer.step()\n",
    "    \n"
   ]
  }
 ],
 "metadata": {
  "kernelspec": {
   "display_name": "Python 3",
   "language": "python",
   "name": "python3"
  },
  "language_info": {
   "codemirror_mode": {
    "name": "ipython",
    "version": 3
   },
   "file_extension": ".py",
   "mimetype": "text/x-python",
   "name": "python",
   "nbconvert_exporter": "python",
   "pygments_lexer": "ipython3",
   "version": "3.7.10"
  }
 },
 "nbformat": 4,
 "nbformat_minor": 5
}
